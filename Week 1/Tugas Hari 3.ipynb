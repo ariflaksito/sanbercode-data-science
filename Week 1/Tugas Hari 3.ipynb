{
 "cells": [
  {
   "cell_type": "markdown",
   "metadata": {},
   "source": [
    "Arif Laksito<br />\n",
    "arif.laksito@amikom.ac.id"
   ]
  },
  {
   "cell_type": "markdown",
   "metadata": {
    "colab_type": "text",
    "id": "a9HYUdCUsrKl"
   },
   "source": [
    "<h2>Soal 1: Comparison Operator</h2>\n",
    "\n",
    "- Berikan contoh comparison dari tipe data string\n",
    "- Berikan contoh comparison dari tipe data boolean\n",
    "- Berikan contoh comparison dari tipe data integer"
   ]
  },
  {
   "cell_type": "code",
   "execution_count": 3,
   "metadata": {
    "colab": {},
    "colab_type": "code",
    "id": "lXMCHZ71srKp"
   },
   "outputs": [
    {
     "name": "stdout",
     "output_type": "stream",
     "text": [
      "True\n",
      "False\n",
      "True\n",
      "False\n",
      "True\n",
      "False\n"
     ]
    }
   ],
   "source": [
    "#Comparison tipe data String\n",
    "print('python' == 'python')\n",
    "print('python' == 'Python')\n",
    "\n",
    "#Comparison tipe data Boolean\n",
    "print(True == True)\n",
    "print(False == True)\n",
    "\n",
    "#Comparison tipe data Integer\n",
    "print(5 > 2)\n",
    "print(3 < 1)"
   ]
  },
  {
   "cell_type": "markdown",
   "metadata": {
    "colab_type": "text",
    "id": "IbNoZvVssrK5"
   },
   "source": [
    "<h2>Soal 2: Boolean Comparison</h2>\n",
    "\n",
    "- Berikan contoh gabungan multiple comparison menggunkan Boolean Comparisin 'and'\n",
    "- Berikan contoh gabungan multiple comparison menggunkan Boolean Comparisin 'or'\n",
    "- Berikan contoh gabungan multiple comparison menggunkan Boolean Comparisin 'not'"
   ]
  },
  {
   "cell_type": "code",
   "execution_count": 4,
   "metadata": {
    "colab": {},
    "colab_type": "code",
    "id": "7eU1vPLCsrK7"
   },
   "outputs": [
    {
     "name": "stdout",
     "output_type": "stream",
     "text": [
      "True\n",
      "False\n",
      "True\n",
      "False\n",
      "False\n",
      "True\n"
     ]
    }
   ],
   "source": [
    "#Comparison and\n",
    "print(True and (5 > 2))\n",
    "print((12 > 6) and (5 < 2))\n",
    "\n",
    "#Comparison or\n",
    "print(False or (5 > 2))\n",
    "print(False or (5 < 2))\n",
    "\n",
    "#Comparison not\n",
    "print(not(True))\n",
    "print(not(5 < 2))"
   ]
  },
  {
   "cell_type": "markdown",
   "metadata": {
    "colab_type": "text",
    "id": "Yp_g_sPMsrLH"
   },
   "source": [
    "<h2>Soal 3: If-Else Statement</h2>\n",
    "\n",
    "Lengkapi kode untuk menghasilkan suatu output yang di harapkan\n",
    "\n",
    "- Bualah sebuah if-else statement yang dimana akan mem-print 'Besar' jika ruangan adalah 'Kamar' dan ukuran lebih dari 12, kemudian mem-print 'Sedang' jika ruangan adalah 'Kamar' dan ukuran lebih dari 6 dan memprint 'Kecil' jika ruangan adalah 'Kamar' dan ukuran ruangan lebih kecil dan sama dengan 6."
   ]
  },
  {
   "cell_type": "code",
   "execution_count": 5,
   "metadata": {
    "colab": {},
    "colab_type": "code",
    "id": "euRiRNupsrLK"
   },
   "outputs": [
    {
     "name": "stdout",
     "output_type": "stream",
     "text": [
      "Besar\n"
     ]
    }
   ],
   "source": [
    "ruangan = 'Kamar'\n",
    "size = 20\n",
    "\n",
    "if(ruangan=='Kamar' and size > 12):\n",
    "    print('Besar')\n",
    "elif(ruangan=='Kamar' and size > 6) :\n",
    "    print('Sedang')\n",
    "else:\n",
    "    print('Kecil')"
   ]
  },
  {
   "cell_type": "markdown",
   "metadata": {
    "colab_type": "text",
    "id": "IcoJXJT1srLW"
   },
   "source": [
    "<h2>Soal 4: Comparison Operator dengan fungsi</h2>\n",
    "\n",
    "Buatlah sebuah fungsi yang menerima satu argument bertipe data numeric dan menghasilkan sebuah return sebagai berikut :\n",
    "- menghasilkan return 'Aneh' jika nilai dari argument tersebut adalah bilangan ganjil\n",
    "- menghasilkan return 'Tidak Aneh' jika nilai dari argument tersebut adalah bilangan genap dan diantara nilai 2 sampai 5 (2 dan 5 termasuk)\n",
    "- menghasilkan return 'Aneh' jika nilai dari argument tersebut adalah bilangan genap dan diantara nilai 6 sampai 20 (6 dan 20 termasuk)\n",
    "- menghasilkan return 'Tidak Aneh' jika nilai dari argument tersebut adalah bilangan genap dan lebih besari dari 20"
   ]
  },
  {
   "cell_type": "code",
   "execution_count": 6,
   "metadata": {
    "colab": {},
    "colab_type": "code",
    "id": "g8F_qfEKsrLZ"
   },
   "outputs": [
    {
     "name": "stdout",
     "output_type": "stream",
     "text": [
      "Aneh\n",
      "Tidak Aneh\n",
      "Aneh\n",
      "Tidak Aneh\n"
     ]
    }
   ],
   "source": [
    "# Buat fungsi\n",
    "def some_function(inp):\n",
    "    output = ''\n",
    "    if(inp%2 != 0):\n",
    "        output = 'Aneh'\n",
    "    elif(inp%2 == 0 and (inp>=2 and inp <=5)):\n",
    "        output = 'Tidak Aneh'\n",
    "    elif(inp%2 == 0 and(inp>=6 and inp <= 20)):\n",
    "        output = 'Aneh'\n",
    "    elif(inp%2 == 0 and inp > 20):\n",
    "        output = 'Tidak Aneh'\n",
    "    return output\n",
    "\n",
    "# Jalankan fungsi\n",
    "print(some_function(17))\n",
    "print(some_function(4))\n",
    "print(some_function(16))\n",
    "print(some_function(28))"
   ]
  },
  {
   "cell_type": "markdown",
   "metadata": {
    "colab_type": "text",
    "id": "gf0D64xOsrLl"
   },
   "source": [
    "<h2>Soal 5: While Loop dan For Loop</h2>\n",
    "\n",
    "- Apa perbedaan while loop dan for loop?\n",
    "- Berikan contoh sederhana cara menggunakan while loop dan for loop\n",
    "\n",
    "<strong>Jawaban:</strong> while adalah perulangan menggunakan kondisi tertentu, sedangkan for adalah perulangan pada range tertentu"
   ]
  },
  {
   "cell_type": "code",
   "execution_count": 7,
   "metadata": {
    "colab": {},
    "colab_type": "code",
    "id": "l7KIgpjHsrLo"
   },
   "outputs": [
    {
     "name": "stdout",
     "output_type": "stream",
     "text": [
      "Hello 0\n",
      "Hello 1\n",
      "Hello 2\n",
      "Hello 3\n",
      "Hello 4\n",
      "Python 0\n",
      "Python 1\n",
      "Python 2\n",
      "Python 3\n",
      "Python 4\n"
     ]
    }
   ],
   "source": [
    "# Tulis Kode\n",
    "# Kode for looping\n",
    "for i in range(5):\n",
    "    print(f'Hello {i}')\n",
    "    \n",
    "# Kode while looping    \n",
    "j = 0\n",
    "while j < 5:\n",
    "    print(f'Python {j}')\n",
    "    j+=1"
   ]
  },
  {
   "cell_type": "markdown",
   "metadata": {
    "colab_type": "text",
    "id": "fZQpBGCgsrLz"
   },
   "source": [
    "<h2>Soal 6: While Loop</h2>\n",
    "    \n",
    "Buatlah sebuah code while loop sebagai berikut :\n",
    "- Buatlah suatu fungsi yang merima satu input nilai numeric\n",
    "- Dalam fungsi, Buat sebuah while-loop dengan melakukan comparasi terhadap inputan tersebut, dimana looping/iterasi terus berjalan apabila nilai inputan tidak sama dengan 0\n",
    "- Dalam setiap iterasi update nilai variable inputan itu, jika input lebih dari 0, maka kurangi variabel tersebut sebesar 1, selain itu tambahkan 1\n",
    "- print nilai variable input dalam setiap awal iterasi"
   ]
  },
  {
   "cell_type": "code",
   "execution_count": 8,
   "metadata": {
    "colab": {},
    "colab_type": "code",
    "id": "yOiqjrU2srL1"
   },
   "outputs": [
    {
     "name": "stdout",
     "output_type": "stream",
     "text": [
      "10\n",
      "9\n",
      "8\n",
      "7\n",
      "6\n",
      "5\n",
      "4\n",
      "3\n",
      "2\n",
      "1\n"
     ]
    }
   ],
   "source": [
    "a = 10\n",
    "\n",
    "def fungsi_while(a):\n",
    "    if a != 0:\n",
    "        while a > 0:\n",
    "            print(a)\n",
    "            a -= 1\n",
    "\n",
    "fungsi_while(a)"
   ]
  },
  {
   "cell_type": "markdown",
   "metadata": {
    "colab_type": "text",
    "id": "lKzngRrlsrMD"
   },
   "source": [
    "Expected Output:\n",
    "\n",
    "10\n",
    "\n",
    "9\n",
    "\n",
    "8\n",
    "\n",
    "7\n",
    "\n",
    "6\n",
    "\n",
    "5\n",
    "\n",
    "4\n",
    "\n",
    "3\n",
    "\n",
    "2\n",
    "\n",
    "1"
   ]
  },
  {
   "cell_type": "markdown",
   "metadata": {
    "colab_type": "text",
    "id": "IWg3Z_zZsrMG"
   },
   "source": [
    "<h2>Soal 7: For Loop</h2>\n",
    "    \n",
    "Lengkapi kode untuk menghasilkan suatu output yang di harapkan:\n",
    "\n",
    "- Buatlah sebuah loop dengan mengiterasi sebuah objek list kemudian di kalikan dengan index dari list tersebut dan print hasilnya"
   ]
  },
  {
   "cell_type": "code",
   "execution_count": 9,
   "metadata": {
    "colab": {},
    "colab_type": "code",
    "id": "_Jl5i7WKsrMI"
   },
   "outputs": [
    {
     "name": "stdout",
     "output_type": "stream",
     "text": [
      "0\n",
      "16\n",
      "22\n",
      "30\n",
      "20\n"
     ]
    }
   ],
   "source": [
    "obj_list= [1, 16, 11, 10, 5]\n",
    "\n",
    "# lengkapi code di bawah\n",
    "for index,value in enumerate(obj_list):\n",
    "    print(index * value)"
   ]
  },
  {
   "cell_type": "markdown",
   "metadata": {
    "colab_type": "text",
    "id": "OGawROjnsrMU"
   },
   "source": [
    "Expected Output:\n",
    "\n",
    "0\n",
    "\n",
    "16\n",
    "\n",
    "22\n",
    "\n",
    "30\n",
    "\n",
    "20\n"
   ]
  }
 ],
 "metadata": {
  "colab": {
   "name": "Tugas Hari 4.ipynb",
   "provenance": []
  },
  "kernelspec": {
   "display_name": "Python 3",
   "language": "python",
   "name": "python3"
  },
  "language_info": {
   "codemirror_mode": {
    "name": "ipython",
    "version": 3
   },
   "file_extension": ".py",
   "mimetype": "text/x-python",
   "name": "python",
   "nbconvert_exporter": "python",
   "pygments_lexer": "ipython3",
   "version": "3.7.6"
  }
 },
 "nbformat": 4,
 "nbformat_minor": 1
}
